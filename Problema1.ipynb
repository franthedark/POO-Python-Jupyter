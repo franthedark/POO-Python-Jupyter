{
 "cells": [
  {
   "cell_type": "markdown",
   "id": "98444fbb",
   "metadata": {},
   "source": [
    "# Problema 1: Sistema de Biblioteca\n",
    "**Estudiante:** Francisco Mercado\n",
    "\n",
    "## Objetivo del problema:\n",
    "Implementar correctamente las clases siguiendo los principios de la programación orientada a objetos,\n",
    "utilizando adecuadamente los métodos y atributos, para modelar un sistema funcional de préstamos y\n",
    "devoluciones."
   ]
  },
  {
   "cell_type": "code",
   "execution_count": 1,
   "id": "1e744a3f",
   "metadata": {},
   "outputs": [
    {
     "name": "stdout",
     "output_type": "stream",
     "text": [
      "[<Libro: 'Cien Años de Soledad' de Gabriel García Márquez — Disponible>, <Libro: '1984' de George Orwell — Disponible>]\n",
      "Préstamo exitoso: True\n",
      "[<Libro: 'Cien Años de Soledad' de Gabriel García Márquez — Disponible>, <Libro: '1984' de George Orwell — Prestado>]\n"
     ]
    }
   ],
   "source": [
    "#clase libro\n",
    "class Libro:\n",
    "    def __init__(self, titulo: str, autor: str):\n",
    "        self.titulo = titulo\n",
    "        self.autor = autor\n",
    "        self.disponible = True  #disponible por defecto\n",
    "\n",
    "    def prestar(self) -> bool:\n",
    "        \"\"\"\n",
    "        Marca el libro como no disponible si estaba disponible.\n",
    "        Retorna True si el préstamo fue exitoso; False en caso contrario.\n",
    "        \"\"\"\n",
    "        if self.disponible:\n",
    "            self.disponible = False\n",
    "            return True\n",
    "        return False\n",
    "\n",
    "    def devolver(self):\n",
    "        \"\"\"\n",
    "        Marca el libro como disponible.\n",
    "        \"\"\"\n",
    "        self.disponible = True\n",
    "\n",
    "    def __repr__(self):\n",
    "        estado = \"Disponible\" if self.disponible else \"Prestado\"\n",
    "        return f\"<Libro: '{self.titulo}' de {self.autor} — {estado}>\"\n",
    "\n",
    "#clase biblioteca\n",
    "class Biblioteca:\n",
    "    def __init__(self):\n",
    "        self.catalogo = []  #lista de objetos libro\n",
    "\n",
    "    def agregar_libro(self, libro: Libro):\n",
    "        \"\"\"\n",
    "        Agrega un objeto Libro al catálogo de la biblioteca.\n",
    "        \"\"\"\n",
    "        self.catalogo.append(libro)\n",
    "\n",
    "    def buscar_libro_por_titulo(self, titulo: str) -> Libro | None:\n",
    "        \"\"\"\n",
    "        Busca en el catálogo un libro cuyo título coincida exactamente.\n",
    "        Retorna el objeto Libro o None si no lo encuentra.\n",
    "        \"\"\"\n",
    "        for libro in self.catalogo:\n",
    "            if libro.titulo.lower() == titulo.lower():\n",
    "                return libro\n",
    "        return None\n",
    "\n",
    "    def prestar_libro(self, titulo: str) -> bool:\n",
    "        \"\"\"\n",
    "        Busca el libro por título y, si existe y está disponible,\n",
    "        lo presta (marca como no disponible) y retorna True.\n",
    "        En caso contrario, retorna False.\n",
    "        \"\"\"\n",
    "        libro = self.buscar_libro_por_titulo(titulo)\n",
    "        if libro and libro.prestar():\n",
    "            return True\n",
    "        return False\n",
    "\n",
    "    def __repr__(self):\n",
    "        return f\"<Biblioteca: {len(self.catalogo)} libros>\"\n",
    "\n",
    "#ejemplo de uso\n",
    "if __name__ == \"__main__\":\n",
    "    biblio = Biblioteca()\n",
    "    libro1 = Libro(\"Cien Años de Soledad\", \"Gabriel García Márquez\")\n",
    "    libro2 = Libro(\"1984\", \"George Orwell\")\n",
    "\n",
    "    biblio.agregar_libro(libro1)\n",
    "    biblio.agregar_libro(libro2)\n",
    "\n",
    "    print(biblio.catalogo)  \n",
    "    #intento de prestamo\n",
    "    exito = biblio.prestar_libro(\"1984\")\n",
    "    print(\"Préstamo exitoso:\", exito)\n",
    "    print(biblio.catalogo)"
   ]
  },
  {
   "cell_type": "code",
   "execution_count": 2,
   "id": "f206ba02",
   "metadata": {},
   "outputs": [
    {
     "name": "stdout",
     "output_type": "stream",
     "text": [
      "Estado inicial: [<Libro: 'Cien Años de Soledad' de Gabriel García Márquez — Disponible>, <Libro: '1984' de George Orwell — Disponible>]\n",
      "Préstamo 1984: True\n",
      "Después del préstamo: [<Libro: 'Cien Años de Soledad' de Gabriel García Márquez — Disponible>, <Libro: '1984' de George Orwell — Prestado>]\n",
      "Préstamo 1984 de nuevo: False\n",
      "Después de devolución: [<Libro: 'Cien Años de Soledad' de Gabriel García Márquez — Disponible>, <Libro: '1984' de George Orwell — Disponible>]\n",
      "Préstamo 1984 otra vez: True\n"
     ]
    }
   ],
   "source": [
    "#celda de pruebas instanciación y demostracion\n",
    "from datetime import datetime\n",
    "\n",
    "#crear biblioteca y algunos libros\n",
    "biblio = Biblioteca()\n",
    "biblio.agregar_libro(Libro(\"Cien Años de Soledad\", \"Gabriel García Márquez\"))\n",
    "biblio.agregar_libro(Libro(\"1984\", \"George Orwell\"))\n",
    "\n",
    "#mostrar estado inicial\n",
    "print(\"Estado inicial:\", biblio.catalogo)\n",
    "\n",
    "#intentar prestamo exitoso\n",
    "print(\"Préstamo 1984:\", biblio.prestar_libro(\"1984\"))\n",
    "print(\"Después del préstamo:\", biblio.catalogo)\n",
    "\n",
    "#intentar préstamo fallido (ya prestado)\n",
    "print(\"Préstamo 1984 de nuevo:\", biblio.prestar_libro(\"1984\"))\n",
    "\n",
    "#devolver y volver a prestar\n",
    "lib = biblio.buscar_libro_por_titulo(\"1984\")\n",
    "lib.devolver()\n",
    "print(\"Después de devolución:\", biblio.catalogo)\n",
    "print(\"Préstamo 1984 otra vez:\", biblio.prestar_libro(\"1984\"))"
   ]
  },
  {
   "cell_type": "markdown",
   "id": "988c4ed9",
   "metadata": {},
   "source": [
    "## Autoevaluación\n",
    "\n",
    "1. **¿Qué representa cada clase y su responsabilidad?**  \n",
    "   - **Libro**: modela un libro con título, autor y estado de disponibilidad; gestiona prestar y devolver.  \n",
    "   - **Biblioteca**: mantiene un catálogo (lista) de libros y ofrece métodos para agregar, buscar y prestar.\n",
    "\n",
    "2. **¿Cómo se relacionan los objetos?**  \n",
    "   - La `Biblioteca` contiene instancias de `Libro`. Cuando pides prestado un título, busca en su lista y llama al método `prestar()` del libro correspondiente.\n",
    "\n",
    "3. **¿Qué sucede si intento prestar un libro no disponible?**  \n",
    "   - El método `prestar()` devuelve `False` y el estado del libro no cambia (sigue `disponible = False`).\n",
    "\n",
    "4. **¿Qué pasaría si devuelvo un libro no registrado?**  \n",
    "   - En el diseño actual, no hay validación: podrías llamar a `devolver()` sobre cualquier instancia. Para evitarlo, habría que primero buscarlo en el catálogo y sólo entonces marcarlo disponible.\n",
    "\n",
    "5. **¿Qué ventaja ofrece usar POO aquí?**  \n",
    "   - Encapsulación de estado y comportamiento en cada objeto, claridad conceptual, y facilidad para extender o modificar sin afectar toda la solución.\n",
    "\n",
    "6. **¿El código está bien organizado y documentado?**  \n",
    "   - Sí: cada clase tiene responsabilidad única, se usan docstrings y `__repr__` para facilitar debugging, y el flujo está separado en celdas lógicas.\n"
   ]
  }
 ],
 "metadata": {
  "kernelspec": {
   "display_name": "poo",
   "language": "python",
   "name": "python3"
  },
  "language_info": {
   "codemirror_mode": {
    "name": "ipython",
    "version": 3
   },
   "file_extension": ".py",
   "mimetype": "text/x-python",
   "name": "python",
   "nbconvert_exporter": "python",
   "pygments_lexer": "ipython3",
   "version": "3.10.18"
  }
 },
 "nbformat": 4,
 "nbformat_minor": 5
}
