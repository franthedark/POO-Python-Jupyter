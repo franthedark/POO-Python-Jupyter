{
 "cells": [
  {
   "cell_type": "markdown",
   "id": "fdae54b3",
   "metadata": {},
   "source": [
    "# Problema 4: Simulación de un Cajero Automático  \n",
    "**Estudiante:** Francisco Mercado"
   ]
  },
  {
   "cell_type": "code",
   "execution_count": null,
   "id": "a99d61fb",
   "metadata": {},
   "outputs": [],
   "source": [
    "from typing import List, Tuple\n",
    "\n",
    "class CuentaBancaria:\n",
    "    def __init__(self, numero: str, saldo_inicial: float):\n",
    "        self.numero = numero\n",
    "        self.saldo = saldo_inicial\n",
    "        self.historial: List[Tuple[str, float, bool]] = []  # opcional: (tipo, monto, éxito)\n",
    "\n",
    "    def retirar(self, monto: float) -> bool:\n",
    "        \"\"\"\n",
    "        Intenta descontar `monto` de la cuenta. \n",
    "        Retorna True si hay fondos suficientes (y se descuenta), False si no.\n",
    "        Registra la operación en el historial.\n",
    "        \"\"\"\n",
    "        if monto <= self.saldo:\n",
    "            self.saldo -= monto\n",
    "            self.historial.append((\"retiro\", monto, True))\n",
    "            return True\n",
    "        else:\n",
    "            self.historial.append((\"retiro\", monto, False))\n",
    "            return False\n",
    "\n",
    "    def __repr__(self):\n",
    "        return f\"<Cuenta {self.numero}: Saldo={self.saldo:.2f}>\"\n",
    "\n",
    "def mostrar_saldo(cuenta: CuentaBancaria):\n",
    "    \"\"\"Imprime el número de cuenta y su saldo actual.\"\"\"\n",
    "    print(f\"Cuenta {cuenta.numero} — Saldo actual: {cuenta.saldo:.2f}\")\n",
    "\n",
    "class CajeroAutomatico:\n",
    "    def retirar_dinero(self, cuenta: CuentaBancaria, monto: float) -> str:\n",
    "        \"\"\"\n",
    "        Intenta retirar `monto` usando la cuenta,\n",
    "        y retorna un mensaje con el resultado y el nuevo saldo si aplica.\n",
    "        \"\"\"\n",
    "        if cuenta.retirar(monto):\n",
    "            return (f\"Retiro de {monto:.2f} exitoso. \"\n",
    "                    f\"Nuevo saldo en cuenta {cuenta.numero}: {cuenta.saldo:.2f}\")\n",
    "        else:\n",
    "            return (f\"Fondos insuficientes para retirar {monto:.2f} \"\n",
    "                    f\"desde la cuenta {cuenta.numero}. Saldo actual: {cuenta.saldo:.2f}\")"
   ]
  },
  {
   "cell_type": "code",
   "execution_count": null,
   "id": "386410cf",
   "metadata": {},
   "outputs": [],
   "source": [
    "#crear dos cuentas con saldos distintos\n",
    "cuenta1 = CuentaBancaria(\"00012345\", 500.00)\n",
    "cuenta2 = CuentaBancaria(\"00067890\", 150.00)\n",
    "\n",
    "#instancia del cajero\n",
    "cajero = CajeroAutomatico()\n",
    "\n",
    "#retiro exitoso (menos que el saldo)\n",
    "print(cajero.retirar_dinero(cuenta1, 200.00))\n",
    "#retiro con monto mayor al saldo disponible\n",
    "print(cajero.retirar_dinero(cuenta2, 200.00))\n",
    "#retiro que reduce el saldo a cero\n",
    "print(cajero.retirar_dinero(cuenta2, 150.00))\n",
    "\n",
    "#mostrar saldos finales\n",
    "mostrar_saldo(cuenta1)\n",
    "mostrar_saldo(cuenta2)"
   ]
  },
  {
   "cell_type": "markdown",
   "id": "dc69bb86",
   "metadata": {},
   "source": [
    "## Autoevaluación\n",
    "\n",
    "1. **¿Qué sucede si intenta retirar más dinero del que hay en la cuenta?**  \n",
    "   El método `retirar()` detecta que `monto > saldo` y devuelve `False`, sin modificar el saldo. El cajero muestra un mensaje de fondos insuficientes.\n",
    "\n",
    "2. **¿Cómo se produce la colaboración entre el cajero y la cuenta bancaria?**  \n",
    "   La clase `CajeroAutomatico` delega en el método `retirar()` de `CuentaBancaria` la lógica de verificación y descuento de fondos, y a partir de su resultado construye el mensaje al usuario.\n",
    "\n",
    "3. **¿Qué responsabilidad tiene cada clase en el diseño orientado a objetos?**  \n",
    "   - `CuentaBancaria`: gestionar el estado interno (saldo e historial) y las operaciones sobre él (retiro).  \n",
    "   - `CajeroAutomatico`: orquestar la interacción con el usuario, invocar métodos de la cuenta y formatear respuestas.  \n",
    "   - La función `mostrar_saldo`: responsable única de mostrar el estado actual de la cuenta.\n",
    "\n",
    "4. **¿Sería posible adaptar este sistema para incluir depósitos? ¿Qué cambios haría?**  \n",
    "   Sí. Añadiría en `CuentaBancaria` un método `depositar(monto: float)` que sume al saldo y registre en el historial; luego el `CajeroAutomatico` podría incluir `depositar_dinero()` análogo a `retirar_dinero()`.\n",
    "\n",
    "5. **¿El código está bien organizado y documentado?**  \n",
    "   Sí. Cada clase y función tiene responsabilidad clara, se usan docstrings descriptivos y nombres autoexplicativos, y la simulación está separada de la definición de clases."
   ]
  }
 ],
 "metadata": {
  "language_info": {
   "name": "python"
  }
 },
 "nbformat": 4,
 "nbformat_minor": 5
}
