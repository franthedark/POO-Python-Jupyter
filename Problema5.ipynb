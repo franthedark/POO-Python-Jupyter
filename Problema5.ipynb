{
 "cells": [
  {
   "cell_type": "markdown",
   "id": "99cd3ab3",
   "metadata": {},
   "source": [
    "# Problema 5: Sistema de Gestión de Evaluación Académica de Estudiantes  \n",
    "**Estudiante:** Francisco Mercado"
   ]
  },
  {
   "cell_type": "code",
   "execution_count": null,
   "id": "e0add089",
   "metadata": {},
   "outputs": [],
   "source": [
    "from typing import List\n",
    "\n",
    "class Examen:\n",
    "    def __init__(self, tema: str, nota: float):\n",
    "        if not (1.0 <= nota <= 7.0):\n",
    "            raise ValueError(f\"La nota debe estar entre 1.0 y 7.0, pero se recibió {nota}\")\n",
    "        self.tema = tema\n",
    "        self.nota = nota\n",
    "\n",
    "    def __repr__(self):\n",
    "        return f\"<Examen: {self.tema}, Nota: {self.nota:.1f}>\"\n",
    "\n",
    "class Estudiante:\n",
    "    def __init__(self, nombre: str):\n",
    "        self.nombre = nombre\n",
    "        self.examenes: List[Examen] = []\n",
    "\n",
    "    def agregar_examen(self, examen: Examen):\n",
    "        \"\"\"Agrega un examen al historial del estudiante.\"\"\"\n",
    "        self.examenes.append(examen)\n",
    "\n",
    "    def promedio(self) -> float:\n",
    "        \"\"\"\n",
    "        Calcula y retorna el promedio de todas las notas.\n",
    "        Devuelve 0.0 si no hay exámenes.\n",
    "        \"\"\"\n",
    "        if not self.examenes:\n",
    "            return 0.0\n",
    "        total = sum(e.nota for e in self.examenes)\n",
    "        return total / len(self.examenes)\n",
    "\n",
    "    def mostrar_examenes(self):\n",
    "        \"\"\"Imprime cada examen con su tema y nota.\"\"\"\n",
    "        if not self.examenes:\n",
    "            print(f\"{self.nombre} no ha rendido ningún examen.\")\n",
    "        else:\n",
    "            for e in self.examenes:\n",
    "                print(f\"- {e.tema}: {e.nota:.1f}\")\n",
    "\n",
    "    def __repr__(self):\n",
    "        return f\"<Estudiante: {self.nombre}, Exámenes rendidos: {len(self.examenes)}>\"\n"
   ]
  },
  {
   "cell_type": "code",
   "execution_count": null,
   "id": "35f389bc",
   "metadata": {},
   "outputs": [],
   "source": [
    "#crear un estudiante y algunos examenes\n",
    "juan = Estudiante(\"Juan Pérez\")\n",
    "\n",
    "#agregar examenes validos\n",
    "juan.agregar_examen(Examen(\"POO\", 6.5))\n",
    "juan.agregar_examen(Examen(\"Bases de Datos\", 5.8))\n",
    "\n",
    "#mostrar examenes y promedio\n",
    "print(f\"Historial de {juan.nombre}:\")\n",
    "juan.mostrar_examenes()\n",
    "print(f\"\\nPromedio final: {juan.promedio():.2f}\")\n",
    "\n",
    "#probar manejo de estudiante sin examenes\n",
    "maria = Estudiante(\"María López\")\n",
    "print(f\"\\nHistorial de {maria.nombre}:\")\n",
    "maria.mostrar_examenes()\n",
    "print(f\"Promedio final: {maria.promedio():.2f}\")\n",
    "\n",
    "#probar validacion de nota invalida (descomenta para ver el error)\n",
    "#mal = Examen(\"Redes\", 8.0)"
   ]
  },
  {
   "cell_type": "markdown",
   "id": "ebf20d8b",
   "metadata": {},
   "source": [
    "## Autoevaluación – Problema 5\n",
    "\n",
    "1. **¿Pudo implementar correctamente las clases con los métodos requeridos?**  \n",
    "   Sí. Se crearon las clases `Examen` y `Estudiante` con los métodos `agregar_examen()`, `promedio()` y `mostrar_examenes()`, cumpliendo con los requisitos de registrar exámenes y calcular promedios.\n",
    "\n",
    "2. **¿La implementación considera posibles errores como listas vacías o notas inválidas?**  \n",
    "   - Para listas vacías, `promedio()` detecta ausencia de exámenes y retorna `0.0` evitando división por cero.  \n",
    "   - Para notas inválidas, el constructor de `Examen` valida que la nota esté entre 1.0 y 7.0, lanzando `ValueError` si no cumple.\n",
    "\n",
    "3. **¿Probó el programa con varios estudiantes y exámenes distintos?**  \n",
    "   Sí. En las pruebas se creó un estudiante con dos exámenes diferentes y se verificó el promedio. Además, se instanció un estudiante sin exámenes para comprobar el comportamiento con lista vacía, y quedó preparado un ejemplo comentado para forzar la validación de nota inválida.\n",
    "\n",
    "4. **¿Documentó adecuadamente el código con comentarios claros?**  \n",
    "   Sí. Cada clase y método incluye docstrings o comentarios cortos que explican su propósito y comportamiento, y el `__repr__` ayuda a entender el estado de los objetos en las pruebas."
   ]
  }
 ],
 "metadata": {
  "language_info": {
   "name": "python"
  }
 },
 "nbformat": 4,
 "nbformat_minor": 5
}
