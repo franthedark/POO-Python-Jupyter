{
 "cells": [
  {
   "cell_type": "markdown",
   "id": "95e18987",
   "metadata": {},
   "source": [
    "# Problema 6: Agenda de Contactos  \n",
    "**Estudiante:** Francisco Mercado"
   ]
  },
  {
   "cell_type": "code",
   "execution_count": null,
   "id": "f20209ac",
   "metadata": {},
   "outputs": [],
   "source": [
    "#clase Contacto\n",
    "class Contacto:\n",
    "    def __init__(self, nombre: str, telefono: str):\n",
    "        self.nombre = nombre\n",
    "        self.telefono = telefono  #telefono como cadena\n",
    "\n",
    "    def __repr__(self):\n",
    "        return f\"<Contacto: {self.nombre}, Teléfono: {self.telefono}>\"\n",
    "\n",
    "#clase Agenda\n",
    "class Agenda:\n",
    "    def __init__(self):\n",
    "        self.contactos = []  #lista de objetos Contacto\n",
    "\n",
    "    def agregar_contacto(self, contacto: Contacto):\n",
    "        \"\"\"\n",
    "        Agrega un objeto Contacto a la agenda.\n",
    "        \"\"\"\n",
    "        self.contactos.append(contacto)\n",
    "\n",
    "    def buscar_por_nombre(self, nombre: str) -> list[str]:\n",
    "        \"\"\"\n",
    "        Busca contactos cuyo nombre coincide exactamente con `nombre`.\n",
    "        Retorna lista de teléfonos.\n",
    "        \"\"\"\n",
    "        #filtramos con comparación exacta (case-sensitive)\n",
    "        return [c.telefono for c in self.contactos if c.nombre == nombre]\n"
   ]
  },
  {
   "cell_type": "code",
   "execution_count": null,
   "id": "e2333a17",
   "metadata": {},
   "outputs": [],
   "source": [
    "#celda de demostracion\n",
    "agenda = Agenda()\n",
    "\n",
    "#agregamos tres contactos, dos con mismo nombre\n",
    "agenda.agregar_contacto(Contacto(\"Ana\", \"1111-1111\"))\n",
    "agenda.agregar_contacto(Contacto(\"Luis\", \"2222-2222\"))\n",
    "agenda.agregar_contacto(Contacto(\"Ana\", \"3333-3333\"))\n",
    "\n",
    "#imprimimos lista completa de contactos\n",
    "print(\"Contactos en agenda:\", agenda.contactos)\n",
    "\n",
    "#busquedas exactas\n",
    "print(\"Buscar 'Ana':\", agenda.buscar_por_nombre(\"Ana\"))     # → ['1111-1111', '3333-3333']\n",
    "print(\"Buscar 'Luis':\", agenda.buscar_por_nombre(\"Luis\"))   # → ['2222-2222']\n",
    "print(\"Buscar 'Pedro':\", agenda.buscar_por_nombre(\"Pedro\")) # → []\n"
   ]
  },
  {
   "cell_type": "markdown",
   "id": "92d67a7e",
   "metadata": {},
   "source": [
    "## Autoevaluación – Problema 6\n",
    "\n",
    "1. **¿Implementó correctamente las clases y métodos requeridos?**  \n",
    "   Sí. Se definieron las clases `Contacto` y `Agenda` con los métodos `agregar_contacto()` y `buscar_por_nombre()`.\n",
    "\n",
    "2. **¿Probó el programa con contactos repetidos?**  \n",
    "   Sí. En la demostración aparecen dos objetos `Contacto` con nombre \"Ana\" y la búsqueda devuelve ambos números.\n",
    "\n",
    "3. **¿La búsqueda funciona exactamente como se espera?**  \n",
    "   Sí. Utiliza comparación exacta (sensible a mayúsculas/minúsculas) y retorna una lista de teléfonos correcta; para nombres no existentes devuelve lista vacía.\n",
    "\n",
    "4. **¿El código está bien organizado y documentado?**  \n",
    "   Sí. Cada clase y método incluye docstrings o comentarios breves, se usan nombres claros y `__repr__` facilita la depuración."
   ]
  }
 ],
 "metadata": {
  "language_info": {
   "name": "python"
  }
 },
 "nbformat": 4,
 "nbformat_minor": 5
}
