{
 "cells": [
  {
   "cell_type": "markdown",
   "id": "ec37a238",
   "metadata": {},
   "source": [
    "# Problema 7: Sistema de Pedidos de una Tienda\n",
    "**Estudiante:** Francisco Mercado"
   ]
  },
  {
   "cell_type": "code",
   "execution_count": null,
   "id": "c948a904",
   "metadata": {},
   "outputs": [],
   "source": [
    "#clase Producto\n",
    "class Producto:\n",
    "    def __init__(self, nombre: str, precio: float):\n",
    "        #nombre del producto como cadena de texto\n",
    "        self.nombre = nombre\n",
    "        #precio como número real positivo\n",
    "        self.precio = precio\n",
    "\n",
    "    def __repr__(self):\n",
    "        return f\"<Producto: {self.nombre}, Precio: {self.precio:.2f}>\"\n",
    "\n",
    "#clase Pedido\n",
    "class Pedido:\n",
    "    def __init__(self):\n",
    "        #lista de objetos Producto\n",
    "        self.productos = []\n",
    "\n",
    "    def agregar_producto(self, producto: Producto):\n",
    "        \"\"\"\n",
    "        Agrega un objeto Producto al pedido.\n",
    "        \"\"\"\n",
    "        self.productos.append(producto)\n",
    "\n",
    "    def total(self) -> float:\n",
    "        \"\"\"\n",
    "        Calcula y devuelve la suma de los precios de todos los productos.\n",
    "        \"\"\"\n",
    "        return sum(p.precio for p in self.productos)\n",
    "\n",
    "    def __repr__(self):\n",
    "        return f\"<Pedido: {len(self.productos)} productos, Total: {self.total():.2f}>\"\n"
   ]
  },
  {
   "cell_type": "code",
   "execution_count": null,
   "id": "95cf6d17",
   "metadata": {},
   "outputs": [],
   "source": [
    "#celda de demostracion\n",
    "pedido = Pedido()\n",
    "\n",
    "#agregar tres productos con precios variados\n",
    "pedido.agregar_producto(Producto(\"Camiseta\", 15.99))\n",
    "pedido.agregar_producto(Producto(\"Pantalón\", 39.50))\n",
    "pedido.agregar_producto(Producto(\"Zapatos\", 59.90))\n",
    "\n",
    "#imprimir los productos en el pedido\n",
    "print(\"Productos en el pedido:\", pedido.productos)\n",
    "\n",
    "#mostrar el total utilizando el método correspondiente\n",
    "print(f\"Total del pedido: {pedido.total():.2f}\")"
   ]
  },
  {
   "cell_type": "code",
   "execution_count": null,
   "id": "08e82420",
   "metadata": {},
   "outputs": [],
   "source": [
    "#celda de interaccion con el usuario\n",
    "#permite agregar productos via input() y muestra un resumen final del pedido\n",
    "\n",
    "pedido_interactivo = Pedido()\n",
    "\n",
    "#pedimos al usuario cuantos productos desea agregar\n",
    "cantidad = int(input(\"¿Cuántos productos deseas agregar? \"))\n",
    "\n",
    "for i in range(cantidad):\n",
    "    #solicitamos nombre y precio para cada producto\n",
    "    nombre = input(f\"Nombre del producto {i+1}: \")\n",
    "    precio = float(input(f\"Precio de \\\"{nombre}\\\": \"))\n",
    "    pedido_interactivo.agregar_producto(Producto(nombre, precio))\n",
    "\n",
    "#mostramos el resumen del pedido\n",
    "print(\"\\nResumen del pedido:\")\n",
    "for p in pedido_interactivo.productos:\n",
    "    print(f\"- {p.nombre}: {p.precio:.2f}\")\n",
    "\n",
    "#mostramos el total general\n",
    "print(f\"\\nTotal general del pedido: {pedido_interactivo.total():.2f}\")\n"
   ]
  },
  {
   "cell_type": "markdown",
   "id": "ba0ef05d",
   "metadata": {},
   "source": [
    "## Autoevaluación – Problema 7\n",
    "\n",
    "- **¿He utilizado correctamente las clases y los objetos en mi solución?**  \n",
    "  Sí. Se definieron las clases `Producto` y `Pedido`, y se usan instancias de `Producto` dentro de `Pedido`.\n",
    "\n",
    "- **¿He separado correctamente los datos (atributos) del comportamiento (métodos)?**  \n",
    "  Sí. Los atributos (`nombre`, `precio`, `productos`) están en el constructor, y el comportamiento (`agregar_producto()`, `total()`) en métodos separados.\n",
    "\n",
    "- **¿He probado mi código con diferentes productos y verificado que el total es correcto?**  \n",
    "  Sí. En la celda de demostración se agregan tres productos distintos y se muestra el total calculado.\n",
    "\n",
    "- **¿Mi código es legible y está bien comentado?**  \n",
    "  Sí. Cada clase y método incluye comentarios y docstrings que explican su propósito y comportamiento."
   ]
  }
 ],
 "metadata": {
  "language_info": {
   "name": "python"
  }
 },
 "nbformat": 4,
 "nbformat_minor": 5
}
