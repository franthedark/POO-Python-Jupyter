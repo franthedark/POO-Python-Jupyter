{
 "cells": [
  {
   "cell_type": "markdown",
   "id": "349933c1",
   "metadata": {},
   "source": [
    "# Problema 8: Sistema de Mensajería entre Usuarios  \n",
    "**Estudiante:** Francisco Mercado"
   ]
  },
  {
   "cell_type": "code",
   "execution_count": null,
   "id": "0a92f298",
   "metadata": {},
   "outputs": [],
   "source": [
    "#clase Usuario\n",
    "class Usuario:\n",
    "    def __init__(self, nombre: str):\n",
    "        self.nombre = nombre\n",
    "        self.buzon = []  #lista de tuplas (remitente, contenido)\n",
    "\n",
    "    def enviar_mensaje(self, destinatario: \"Usuario\", contenido: str):\n",
    "        \"\"\"\n",
    "        Envía un mensaje al usuario 'destinatario', pasando el contenido.\n",
    "        \"\"\"\n",
    "        destinatario.recibir_mensaje(self.nombre, contenido)\n",
    "\n",
    "    def recibir_mensaje(self, remitente: str, contenido: str):\n",
    "        \"\"\"\n",
    "        Agrega al buzón un mensaje recibido, indicando el remitente y el contenido.\n",
    "        \"\"\"\n",
    "        self.buzon.append((remitente, contenido))\n",
    "\n",
    "    def leer_mensajes(self) -> list[str]:\n",
    "        \"\"\"\n",
    "        Devuelve una lista de mensajes en formato 'De {remitente}: {contenido}'.\n",
    "        \"\"\"\n",
    "        return [f\"De {r}: {c}\" for r, c in self.buzon]\n",
    "\n",
    "    def __repr__(self):\n",
    "        return f\"<Usuario: {self.nombre}, Mensajes recibidos: {len(self.buzon)}>\""
   ]
  },
  {
   "cell_type": "code",
   "execution_count": null,
   "id": "fc8139b3",
   "metadata": {},
   "outputs": [],
   "source": [
    "#celda de demostracion\n",
    "u1 = Usuario(\"Alicia\")\n",
    "u2 = Usuario(\"Juan\")\n",
    "u3 = Usuario(\"Clara\")\n",
    "\n",
    "u1.enviar_mensaje(u2, \"Hola Carlos, ¿cómo estás?\")\n",
    "u2.enviar_mensaje(u1, \"Hola Alicia, todo bien. ¿Y tú?\")\n",
    "u3.enviar_mensaje(u1, \"Alicia, ¿tienes un momento?\")\n",
    "u1.enviar_mensaje(u3, \"Claro Clara, dime.\")\n",
    "\n",
    "print(\"Mensajes de Alicia:\", u1.leer_mensajes())\n",
    "print(\"Mensajes de Juan:\",   u2.leer_mensajes())\n",
    "print(\"Mensajes de Clara:\",  u3.leer_mensajes())"
   ]
  },
  {
   "cell_type": "markdown",
   "id": "83817d3f",
   "metadata": {},
   "source": [
    "## Autoevaluación – Problema 8\n",
    "\n",
    "1. **¿Cómo se relacionan los objetos entre sí? ¿Qué tipo de asociación existe?**  \n",
    "   Cada instancia de `Usuario` puede enviar mensajes a otra instancia; al invocar `enviar_mensaje`, el emisor entrega información al buzón del receptor. Esto es una asociación dirigida (cada usuario mantiene su propio buzón, sin propiedad recíproca de objetos).\n",
    "\n",
    "2. **¿Qué ventajas tiene separar la funcionalidad en métodos como enviar_mensaje y leer_mensajes?**  \n",
    "   - **Encapsulación:** cada método cumple una responsabilidad clara (enviar vs. leer).  \n",
    "   - **Reutilización:** puedo cambiar la forma de almacenar o mostrar mensajes sin afectar el otro comportamiento.  \n",
    "   - **Legibilidad:** el código se entiende mejor al tener nombres descriptivos y acciones atomizadas.\n",
    "\n",
    "3. **¿Sería posible extender este sistema para incluir respuestas a mensajes o mensajes con fecha? ¿Cómo lo harías?**  \n",
    "   Sí. Podría crear una clase `Mensaje` con atributos `remitente`, `contenido`, `fecha` (por ejemplo, `datetime.now()`) y quizás `respuesta_a` (referencia a otro mensaje). El buzón pasaría a guardar instancias de `Mensaje` en lugar de tuplas, y los métodos de envío y lectura adaptarían su lógica para incluir esa nueva información."
   ]
  }
 ],
 "metadata": {
  "language_info": {
   "name": "python"
  }
 },
 "nbformat": 4,
 "nbformat_minor": 5
}
