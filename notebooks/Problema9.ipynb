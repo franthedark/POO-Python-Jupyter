{
 "cells": [
  {
   "cell_type": "markdown",
   "id": "5624384f",
   "metadata": {},
   "source": [
    "# Problema 9: Sistema de Inventario de Productos  \n",
    "**Estudiante:** Francisco Mercado"
   ]
  },
  {
   "cell_type": "code",
   "execution_count": null,
   "id": "d65bbe65",
   "metadata": {},
   "outputs": [],
   "source": [
    "#clase Producto\n",
    "class Producto:\n",
    "    def __init__(self, nombre: str, cantidad: int):\n",
    "        #nombre del producto como cadena de texto\n",
    "        self.nombre = nombre\n",
    "        #cantidad disponible como entero\n",
    "        self.cantidad = cantidad\n",
    "\n",
    "    def __repr__(self):\n",
    "        return f\"<Producto: {self.nombre}, Cantidad: {self.cantidad}>\"\n",
    "\n",
    "#clase Inventario\n",
    "class Inventario:\n",
    "    def __init__(self):\n",
    "        #diccionario con clave = nombre del producto, valor = objeto Producto\n",
    "        self.productos = {}\n",
    "\n",
    "    def agregar_producto(self, producto: Producto):\n",
    "        \"\"\"\n",
    "        Si el producto ya existe (mismo nombre), suma la cantidad.\n",
    "        Si no existe, lo agrega al diccionario.\n",
    "        \"\"\"\n",
    "        if producto.nombre in self.productos:\n",
    "            self.productos[producto.nombre].cantidad += producto.cantidad\n",
    "        else:\n",
    "            self.productos[producto.nombre] = producto\n",
    "\n",
    "    def consultar_stock(self, nombre: str) -> int:\n",
    "        \"\"\"\n",
    "        Devuelve la cantidad disponible para el producto dado.\n",
    "        Si no existe, retorna 0.\n",
    "        \"\"\"\n",
    "        if nombre in self.productos:\n",
    "            return self.productos[nombre].cantidad\n",
    "        return 0\n",
    "\n",
    "    def __repr__(self):\n",
    "        return f\"<Inventario: {len(self.productos)} productos>\""
   ]
  },
  {
   "cell_type": "code",
   "execution_count": null,
   "id": "d30b2d55",
   "metadata": {},
   "outputs": [],
   "source": [
    "#celda de demostracion\n",
    "inv = Inventario()\n",
    "\n",
    "#agregamos productos nuevos y repetidos\n",
    "inv.agregar_producto(Producto(\"Manzanas\", 10))\n",
    "inv.agregar_producto(Producto(\"Peras\", 7))\n",
    "inv.agregar_producto(Producto(\"Manzanas\", 5))  #suma a las manzanas existentes\n",
    "inv.agregar_producto(Producto(\"Naranjas\", 0))  #cantidad cero\n",
    "\n",
    "#consultamos stock\n",
    "print(\"Stock Manzanas:\", inv.consultar_stock(\"Manzanas\"))  #15\n",
    "print(\"Stock Peras:\",    inv.consultar_stock(\"Peras\"))     #7\n",
    "print(\"Stock Naranjas:\", inv.consultar_stock(\"Naranjas\"))  #0\n",
    "print(\"Stock Uvas:\",     inv.consultar_stock(\"Uvas\"))      #0 (producto inexistente)\n",
    "\n",
    "#estado completo del inventario\n",
    "print(inv)\n",
    "print(inv.productos)"
   ]
  },
  {
   "cell_type": "markdown",
   "id": "a7110508",
   "metadata": {},
   "source": [
    "## Autoevaluación – Problema 9\n",
    "\n",
    "- **¿Fui capaz de reutilizar una misma clase para representar varios productos?**  \n",
    "  Sí. La clase `Producto` se instancia para cada tipo de producto y el inventario los gestiona todos.\n",
    "\n",
    "- **¿Logré evitar duplicados en el inventario usando el nombre como clave?**  \n",
    "  Sí. `agregar_producto` detecta si el nombre ya existe en el diccionario y suma la cantidad en lugar de duplicar la entrada.\n",
    "\n",
    "- **¿Qué ocurriría si se agrega un producto con cantidad cero?**  \n",
    "  Se agregaría (o se sumaría cero) y el stock quedaría en cero. Podríamos validar y rechazar cantidades ≤ 0 si no queremos entradas sin stock.\n",
    "\n",
    "- **¿Qué mejoras propondría al diseño del sistema?**  \n",
    "  - Añadir un método `retirar_producto(nombre, cantidad)` para gestionar salidas y validar que la cantidad solicitada no exceda el stock.  \n",
    "  - Registrar un historial de movimientos (entradas y salidas) para auditoría.  \n",
    "  - Implementar eventos o notificaciones cuando el stock baje de un umbral mínimo."
   ]
  }
 ],
 "metadata": {
  "language_info": {
   "name": "python"
  }
 },
 "nbformat": 4,
 "nbformat_minor": 5
}
